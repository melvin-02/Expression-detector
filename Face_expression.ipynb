{
  "nbformat": 4,
  "nbformat_minor": 0,
  "metadata": {
    "colab": {
      "name": "Face expression.ipynb",
      "provenance": [],
      "collapsed_sections": [],
      "mount_file_id": "1IKh9v95ypdeysTBju1lbuVOnZuIxIc2E",
      "authorship_tag": "ABX9TyPSCNUmla9maZcbRXhJ+jMx",
      "include_colab_link": true
    },
    "kernelspec": {
      "name": "python3",
      "display_name": "Python 3"
    },
    "accelerator": "GPU"
  },
  "cells": [
    {
      "cell_type": "markdown",
      "metadata": {
        "id": "view-in-github",
        "colab_type": "text"
      },
      "source": [
        "<a href=\"https://colab.research.google.com/github/melvin-02/Expression-detector/blob/master/Face_expression.ipynb\" target=\"_parent\"><img src=\"https://colab.research.google.com/assets/colab-badge.svg\" alt=\"Open In Colab\"/></a>"
      ]
    },
    {
      "cell_type": "code",
      "metadata": {
        "id": "xU4CdCDmiJ3F",
        "colab_type": "code",
        "colab": {}
      },
      "source": [
        "!unzip '/content/drive/My Drive/Colab Notebooks/expressions.zip'"
      ],
      "execution_count": null,
      "outputs": []
    },
    {
      "cell_type": "code",
      "metadata": {
        "id": "KjAkhelAjcch",
        "colab_type": "code",
        "colab": {}
      },
      "source": [
        "import numpy as np\n",
        "import tensorflow as tf\n",
        "import matplotlib.pyplot as plt\n",
        "from glob import glob\n",
        "import os\n",
        "from tensorflow.keras.layers import Input, Dense, Conv2D, MaxPool2D, Dropout, Flatten, BatchNormalization\n",
        "from tensorflow.keras.models import Model\n",
        "from tensorflow.keras.preprocessing.image import ImageDataGenerator, load_img\n",
        "from tensorflow.keras.callbacks import ModelCheckpoint\n",
        "from tensorflow.keras.optimizers import Adam\n"
      ],
      "execution_count": null,
      "outputs": []
    },
    {
      "cell_type": "code",
      "metadata": {
        "id": "_kOau7-Cqfmv",
        "colab_type": "code",
        "colab": {}
      },
      "source": [
        "train_path = \"/content/images/train\"\n",
        "validation_path = \"/content/images/validation\""
      ],
      "execution_count": null,
      "outputs": []
    },
    {
      "cell_type": "code",
      "metadata": {
        "id": "Ro-Dr0b8q9wF",
        "colab_type": "code",
        "colab": {
          "base_uri": "https://localhost:8080/",
          "height": 34
        },
        "outputId": "88cb1c63-1386-46ac-a9fc-e5b76d46cdaa"
      },
      "source": [
        "train_files = glob(train_path + '/*/*.jpg')\n",
        "valid_files = glob(validation_path + '/*/*.jpg')\n",
        "\n",
        "print(len(train_files), len(valid_files))"
      ],
      "execution_count": null,
      "outputs": [
        {
          "output_type": "stream",
          "text": [
            "28821 7066\n"
          ],
          "name": "stdout"
        }
      ]
    },
    {
      "cell_type": "code",
      "metadata": {
        "id": "RjqipyCIrq7_",
        "colab_type": "code",
        "colab": {
          "base_uri": "https://localhost:8080/",
          "height": 284
        },
        "outputId": "821381b9-a67e-4f04-e57b-07bb2849a49c"
      },
      "source": [
        "img = load_img(train_files[0])\n",
        "plt.imshow(img)"
      ],
      "execution_count": null,
      "outputs": [
        {
          "output_type": "execute_result",
          "data": {
            "text/plain": [
              "<matplotlib.image.AxesImage at 0x7fd17300dfd0>"
            ]
          },
          "metadata": {
            "tags": []
          },
          "execution_count": 5
        },
        {
          "output_type": "display_data",
          "data": {
            "image/png": "[encoded data removed]",
            "text/plain": [
              "<Figure size 432x288 with 1 Axes>"
            ]
          },
          "metadata": {
            "tags": [],
            "needs_background": "light"
          }
        }
      ]
    },
    {
      "cell_type": "code",
      "metadata": {
        "id": "kWEyvVSpsA0N",
        "colab_type": "code",
        "colab": {}
      },
      "source": [
        "i = Input(shape = (48,48,1))\n",
        "x = Conv2D(32, (3,3), padding='same', activation='relu')(i)\n",
        "x = Conv2D(32, (3,3), padding='same', activation='relu')(x)\n",
        "x = MaxPool2D((2,2) )(x)\n",
        "x = Conv2D(64, (5,5), padding='same', activation='relu')(x)\n",
        "x = Conv2D(64, (3,3), padding='same', activation='relu')(x)\n",
        "x = MaxPool2D((2,2))(x)\n",
        "x = Dropout(0.5)(x)\n",
        "x = Conv2D(128, (3,3), padding='same', activation='relu')(x)\n",
        "x = Conv2D(128, (3,3), padding='same', activation='relu')(x)\n",
        "x = MaxPool2D((2,2))(x)\n",
        "x = Dropout(0.5)(x)\n",
        "x = Flatten()(x)\n",
        "x = Dense(256, activation='relu')(x)\n",
        "x = Dropout(0.5)(x)\n",
        "x = Dense(7, activation='softmax')(x)\n",
        "\n",
        "model = Model(i, x)\n",
        "\n"
      ],
      "execution_count": null,
      "outputs": []
    },
    {
      "cell_type": "code",
      "metadata": {
        "id": "kThHKobgwA6W",
        "colab_type": "code",
        "colab": {}
      },
      "source": [
        "model.compile(optimizer= Adam(learning_rate=0.001), loss='categorical_crossentropy', metrics=['accuracy'])"
      ],
      "execution_count": null,
      "outputs": []
    },
    {
      "cell_type": "code",
      "metadata": {
        "id": "ZkOKRMWixFho",
        "colab_type": "code",
        "colab": {}
      },
      "source": [
        "train_generator = ImageDataGenerator(rescale=1/255.0) \n",
        "                              \n",
        "\n",
        "test_generator = ImageDataGenerator(rescale=1/255.0)"
      ],
      "execution_count": null,
      "outputs": []
    },
    {
      "cell_type": "code",
      "metadata": {
        "id": "getIJny7xtRC",
        "colab_type": "code",
        "colab": {
          "base_uri": "https://localhost:8080/",
          "height": 51
        },
        "outputId": "1e845dde-7315-4cf5-d9b8-f975b5ce92d8"
      },
      "source": [
        "train_gen = train_generator.flow_from_directory(train_path,\n",
        "                                          target_size = (48,48),\n",
        "                                          color_mode = \"grayscale\",\n",
        "                                          class_mode = 'categorical',\n",
        "                                          shuffle = True,\n",
        "                                          batch_size = 64)\n",
        "\n",
        "test_gen = test_generator.flow_from_directory(validation_path,\n",
        "                                         target_size = (48,48),\n",
        "                                         color_mode = 'grayscale',\n",
        "                                         class_mode = 'categorical',\n",
        "                                         shuffle = False,\n",
        "                                         batch_size = 64)"
      ],
      "execution_count": null,
      "outputs": [
        {
          "output_type": "stream",
          "text": [
            "Found 28821 images belonging to 7 classes.\n",
            "Found 7066 images belonging to 7 classes.\n"
          ],
          "name": "stdout"
        }
      ]
    },
    {
      "cell_type": "code",
      "metadata": {
        "id": "grsH9Y612D9B",
        "colab_type": "code",
        "colab": {}
      },
      "source": [
        "# save only the best model with the least loss\n",
        "model_checkpoint_callback = ModelCheckpoint(\"/content/faceExp.h5\",\n",
        "                                            monitor = 'val_loss',\n",
        "                                            save_best_only = True,\n",
        "                                            save_weights_only  = False,\n",
        "                                            )"
      ],
      "execution_count": null,
      "outputs": []
    },
    {
      "cell_type": "code",
      "metadata": {
        "id": "yoNsDALFym_S",
        "colab_type": "code",
        "colab": {
          "base_uri": "https://localhost:8080/",
          "height": 938
        },
        "outputId": "b6c07601-3948-4a1d-8ca7-b28bc8b1939c"
      },
      "source": [
        "r = model.fit_generator(train_gen,\n",
        "                    steps_per_epoch = len(train_gen.filenames)//64,\n",
        "                    epochs = 25,\n",
        "                    validation_data = test_gen,\n",
        "                    validation_steps = len(test_gen)//64,\n",
        "                    workers = -1,\n",
        "                    callbacks = [model_checkpoint_callback])"
      ],
      "execution_count": null,
      "outputs": [
        {
          "output_type": "stream",
          "text": [
            "WARNING:tensorflow:From <ipython-input-11-e309b2357a0c>:7: Model.fit_generator (from tensorflow.python.keras.engine.training) is deprecated and will be removed in a future version.\n",
            "Instructions for updating:\n",
            "Please use Model.fit, which supports generators.\n",
            "Epoch 1/25\n",
            "450/450 [==============================] - 13s 29ms/step - loss: 1.8082 - accuracy: 0.2459 - val_loss: 2.0569 - val_accuracy: 0.0000e+00\n",
            "Epoch 2/25\n",
            "450/450 [==============================] - 13s 28ms/step - loss: 1.6416 - accuracy: 0.3485 - val_loss: 1.6946 - val_accuracy: 0.1094\n",
            "Epoch 3/25\n",
            "450/450 [==============================] - 12s 27ms/step - loss: 1.4618 - accuracy: 0.4315 - val_loss: 1.6770 - val_accuracy: 0.2031\n",
            "Epoch 4/25\n",
            "450/450 [==============================] - 12s 28ms/step - loss: 1.3681 - accuracy: 0.4725 - val_loss: 1.4730 - val_accuracy: 0.3750\n",
            "Epoch 5/25\n",
            "450/450 [==============================] - 12s 27ms/step - loss: 1.3063 - accuracy: 0.4992 - val_loss: 1.6144 - val_accuracy: 0.3594\n",
            "Epoch 6/25\n",
            "450/450 [==============================] - 12s 27ms/step - loss: 1.2581 - accuracy: 0.5207 - val_loss: 1.2928 - val_accuracy: 0.5312\n",
            "Epoch 7/25\n",
            "450/450 [==============================] - 12s 27ms/step - loss: 1.2307 - accuracy: 0.5303 - val_loss: 1.4641 - val_accuracy: 0.5156\n",
            "Epoch 8/25\n",
            "450/450 [==============================] - 12s 27ms/step - loss: 1.2019 - accuracy: 0.5408 - val_loss: 1.5162 - val_accuracy: 0.3906\n",
            "Epoch 9/25\n",
            "450/450 [==============================] - 12s 27ms/step - loss: 1.1797 - accuracy: 0.5494 - val_loss: 1.3929 - val_accuracy: 0.4219\n",
            "Epoch 10/25\n",
            "450/450 [==============================] - 12s 27ms/step - loss: 1.1630 - accuracy: 0.5552 - val_loss: 1.3309 - val_accuracy: 0.5000\n",
            "Epoch 11/25\n",
            "450/450 [==============================] - 12s 27ms/step - loss: 1.1415 - accuracy: 0.5651 - val_loss: 1.2733 - val_accuracy: 0.4844\n",
            "Epoch 12/25\n",
            "450/450 [==============================] - 12s 27ms/step - loss: 1.1267 - accuracy: 0.5733 - val_loss: 1.3892 - val_accuracy: 0.4688\n",
            "Epoch 13/25\n",
            "450/450 [==============================] - 12s 27ms/step - loss: 1.1138 - accuracy: 0.5761 - val_loss: 1.2178 - val_accuracy: 0.5781\n",
            "Epoch 14/25\n",
            "450/450 [==============================] - 12s 27ms/step - loss: 1.0999 - accuracy: 0.5803 - val_loss: 1.3044 - val_accuracy: 0.5156\n",
            "Epoch 15/25\n",
            "450/450 [==============================] - 12s 27ms/step - loss: 1.0803 - accuracy: 0.5870 - val_loss: 1.3241 - val_accuracy: 0.4844\n",
            "Epoch 16/25\n",
            "450/450 [==============================] - 12s 28ms/step - loss: 1.0781 - accuracy: 0.5892 - val_loss: 1.2121 - val_accuracy: 0.5625\n",
            "Epoch 17/25\n",
            "450/450 [==============================] - 12s 27ms/step - loss: 1.0608 - accuracy: 0.5951 - val_loss: 1.2543 - val_accuracy: 0.5156\n",
            "Epoch 18/25\n",
            "450/450 [==============================] - 12s 27ms/step - loss: 1.0512 - accuracy: 0.5970 - val_loss: 1.1683 - val_accuracy: 0.5625\n",
            "Epoch 19/25\n",
            "450/450 [==============================] - 12s 27ms/step - loss: 1.0408 - accuracy: 0.6054 - val_loss: 1.2499 - val_accuracy: 0.4844\n",
            "Epoch 20/25\n",
            "450/450 [==============================] - 12s 27ms/step - loss: 1.0336 - accuracy: 0.6077 - val_loss: 1.2144 - val_accuracy: 0.5156\n",
            "Epoch 21/25\n",
            "450/450 [==============================] - 12s 27ms/step - loss: 1.0297 - accuracy: 0.6085 - val_loss: 1.0460 - val_accuracy: 0.6250\n",
            "Epoch 22/25\n",
            "450/450 [==============================] - 12s 27ms/step - loss: 1.0152 - accuracy: 0.6111 - val_loss: 1.0577 - val_accuracy: 0.6250\n",
            "Epoch 23/25\n",
            "450/450 [==============================] - 12s 27ms/step - loss: 1.0072 - accuracy: 0.6186 - val_loss: 1.1687 - val_accuracy: 0.5000\n",
            "Epoch 24/25\n",
            "450/450 [==============================] - 12s 27ms/step - loss: 0.9995 - accuracy: 0.6194 - val_loss: 1.2196 - val_accuracy: 0.5469\n",
            "Epoch 25/25\n",
            "450/450 [==============================] - 13s 28ms/step - loss: 0.9916 - accuracy: 0.6217 - val_loss: 1.2669 - val_accuracy: 0.5156\n"
          ],
          "name": "stdout"
        }
      ]
    },
    {
      "cell_type": "code",
      "metadata": {
        "id": "Z2nYVcRY0Pas",
        "colab_type": "code",
        "colab": {
          "base_uri": "https://localhost:8080/",
          "height": 282
        },
        "outputId": "286995d7-abc0-443c-e881-8d1c66c65b08"
      },
      "source": [
        "plt.plot(r.history['loss'], label='loss')\n",
        "plt.plot(r.history['val_loss'], label='val_loss')\n",
        "plt.legend()"
      ],
      "execution_count": null,
      "outputs": [
        {
          "output_type": "execute_result",
          "data": {
            "text/plain": [
              "<matplotlib.legend.Legend at 0x7fd10f53e160>"
            ]
          },
          "metadata": {
            "tags": []
          },
          "execution_count": 12
        },
        {
          "output_type": "display_data",
          "data": {
            "image/png": "[encoded data removed]",
            "text/plain": [
              "<Figure size 432x288 with 1 Axes>"
            ]
          },
          "metadata": {
            "tags": [],
            "needs_background": "light"
          }
        }
      ]
    },
    {
      "cell_type": "code",
      "metadata": {
        "id": "OqX4HBuWS-NV",
        "colab_type": "code",
        "colab": {
          "base_uri": "https://localhost:8080/",
          "height": 282
        },
        "outputId": "6fbcda54-6469-4007-b5b8-4149926e6ec7"
      },
      "source": [
        "plt.plot(r.history['accuracy'], label='accuracy')\n",
        "plt.plot(r.history['val_accuracy'], label='val_accuracy')\n",
        "plt.legend()"
      ],
      "execution_count": null,
      "outputs": [
        {
          "output_type": "execute_result",
          "data": {
            "text/plain": [
              "<matplotlib.legend.Legend at 0x7fd10f4e2978>"
            ]
          },
          "metadata": {
            "tags": []
          },
          "execution_count": 13
        },
        {
          "output_type": "display_data",
          "data": {
            "image/png": "[encoded data removed]",
            "text/plain": [
              "<Figure size 432x288 with 1 Axes>"
            ]
          },
          "metadata": {
            "tags": [],
            "needs_background": "light"
          }
        }
      ]
    },
    {
      "cell_type": "code",
      "metadata": {
        "id": "3tdqG4UXDRIa",
        "colab_type": "code",
        "colab": {
          "base_uri": "https://localhost:8080/",
          "height": 105
        },
        "outputId": "d584f1c5-95e1-4d2b-ade4-2fc02bddc268"
      },
      "source": [
        "model.evaluate_generator(test_gen)"
      ],
      "execution_count": null,
      "outputs": [
        {
          "output_type": "stream",
          "text": [
            "WARNING:tensorflow:From <ipython-input-14-162faf28a7af>:1: Model.evaluate_generator (from tensorflow.python.keras.engine.training) is deprecated and will be removed in a future version.\n",
            "Instructions for updating:\n",
            "Please use Model.evaluate, which supports generators.\n"
          ],
          "name": "stdout"
        },
        {
          "output_type": "execute_result",
          "data": {
            "text/plain": [
              "[1.0812371969223022, 0.606000542640686]"
            ]
          },
          "metadata": {
            "tags": []
          },
          "execution_count": 14
        }
      ]
    },
    {
      "cell_type": "code",
      "metadata": {
        "id": "z3sJ5MOmVqe4",
        "colab_type": "code",
        "colab": {}
      },
      "source": [
        "callback_model = tf.keras.models.load_model('/content/faceExp.h5')"
      ],
      "execution_count": null,
      "outputs": []
    },
    {
      "cell_type": "code",
      "metadata": {
        "id": "8q8cem-VWBOU",
        "colab_type": "code",
        "colab": {
          "base_uri": "https://localhost:8080/",
          "height": 34
        },
        "outputId": "84ebf2a7-5f23-4a6c-b141-42207a409a13"
      },
      "source": [
        "callback_model.evaluate_generator(test_gen)"
      ],
      "execution_count": null,
      "outputs": [
        {
          "output_type": "execute_result",
          "data": {
            "text/plain": [
              "[1.0742440223693848, 0.6016133427619934]"
            ]
          },
          "metadata": {
            "tags": []
          },
          "execution_count": 16
        }
      ]
    },
    {
      "cell_type": "code",
      "metadata": {
        "id": "5wAYO6bTEU8h",
        "colab_type": "code",
        "colab": {}
      },
      "source": [
        "model.save('/content/drive/My Drive/FaceExp60.h5')"
      ],
      "execution_count": null,
      "outputs": []
    },
    {
      "cell_type": "code",
      "metadata": {
        "id": "qHyRadNvobQd",
        "colab_type": "code",
        "colab": {}
      },
      "source": [
        "saved_model = tf.keras.models.load_model('/content/drive/My Drive/FaceExp61.h5')"
      ],
      "execution_count": null,
      "outputs": []
    },
    {
      "cell_type": "code",
      "metadata": {
        "id": "LJfydF2BoiMy",
        "colab_type": "code",
        "colab": {
          "base_uri": "https://localhost:8080/",
          "height": 34
        },
        "outputId": "d4dc12a8-ba25-42e7-8a73-f853cd3719ab"
      },
      "source": [
        "saved_model.evaluate_generator(test_gen)"
      ],
      "execution_count": null,
      "outputs": [
        {
          "output_type": "execute_result",
          "data": {
            "text/plain": [
              "[1.0546190738677979, 0.6140673756599426]"
            ]
          },
          "metadata": {
            "tags": []
          },
          "execution_count": 19
        }
      ]
    },
    {
      "cell_type": "code",
      "metadata": {
        "id": "A_qzHVvPTJ8j",
        "colab_type": "code",
        "colab": {}
      },
      "source": [
        "label = 'angry disgust fear happy neutral sad surprise'.split()"
      ],
      "execution_count": null,
      "outputs": []
    },
    {
      "cell_type": "code",
      "metadata": {
        "id": "pZwJ6pNEEy0Y",
        "colab_type": "code",
        "colab": {
          "base_uri": "https://localhost:8080/",
          "height": 68
        },
        "outputId": "f8542f24-0c44-48d9-d164-493a83ca4ebd"
      },
      "source": [
        "img = load_img(train_files[0], grayscale=True)\n",
        "img2 = tf.keras.preprocessing.image.img_to_array(img)\n",
        "img2 = np.expand_dims(img2, axis=0)\n",
        "model.predict(img2)\n"
      ],
      "execution_count": null,
      "outputs": [
        {
          "output_type": "stream",
          "text": [
            "/usr/local/lib/python3.6/dist-packages/keras_preprocessing/image/utils.py:107: UserWarning: grayscale is deprecated. Please use color_mode = \"grayscale\"\n",
            "  warnings.warn('grayscale is deprecated. Please use '\n"
          ],
          "name": "stderr"
        },
        {
          "output_type": "execute_result",
          "data": {
            "text/plain": [
              "array([[0., 0., 1., 0., 0., 0., 0.]], dtype=float32)"
            ]
          },
          "metadata": {
            "tags": []
          },
          "execution_count": 92
        }
      ]
    },
    {
      "cell_type": "code",
      "metadata": {
        "id": "fpxx3MhmeRwx",
        "colab_type": "code",
        "colab": {}
      },
      "source": [
        ""
      ],
      "execution_count": null,
      "outputs": []
    },
    {
      "cell_type": "code",
      "metadata": {
        "id": "vaVQNQWTe7E5",
        "colab_type": "code",
        "colab": {}
      },
      "source": [
        ""
      ],
      "execution_count": null,
      "outputs": []
    }
  ]
}